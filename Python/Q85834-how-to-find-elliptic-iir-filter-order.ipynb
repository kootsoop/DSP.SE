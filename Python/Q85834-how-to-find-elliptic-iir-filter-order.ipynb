{
 "cells": [
  {
   "cell_type": "code",
   "execution_count": 4,
   "id": "83571ec0",
   "metadata": {},
   "outputs": [
    {
     "name": "stdout",
     "output_type": "stream",
     "text": [
      "3.611405750144236\n"
     ]
    }
   ],
   "source": [
    "from numpy import sqrt\n",
    "from scipy.special import ellipk as K\n",
    "\n",
    "omega_ratio = 0.509\n",
    "e_delta_ratio = 0.00349\n",
    "\n",
    "N = K(omega_ratio)*K(sqrt(1-e_delta_ratio*e_delta_ratio))/(K(e_delta_ratio)*K(sqrt(1-omega_ratio*omega_ratio)))\n",
    "print(N)"
   ]
  },
  {
   "cell_type": "code",
   "execution_count": 5,
   "id": "b564b845",
   "metadata": {},
   "outputs": [
    {
     "name": "stdout",
     "output_type": "stream",
     "text": [
      "3.5420113113759575\n",
      "4\n"
     ]
    }
   ],
   "source": [
    "from math import  ceil\n",
    "from numpy import sqrt\n",
    "from scipy.special import ellipk\n",
    "def K(x):\n",
    "    return ellipk(x*x)\n",
    "\n",
    "omega_ratio = 0.509\n",
    "e_delta_ratio = 0.00349\n",
    "\n",
    "N = K(omega_ratio)*K(sqrt(1-e_delta_ratio*e_delta_ratio))/(K(e_delta_ratio)*K(sqrt(1-omega_ratio*omega_ratio)))\n",
    "print(N)   # 3.5420113113759575\n",
    "print(ceil(N))  # 4"
   ]
  },
  {
   "cell_type": "code",
   "execution_count": null,
   "id": "1fb78213",
   "metadata": {},
   "outputs": [],
   "source": []
  }
 ],
 "metadata": {
  "kernelspec": {
   "display_name": "Python 3 (ipykernel)",
   "language": "python",
   "name": "python3"
  },
  "language_info": {
   "codemirror_mode": {
    "name": "ipython",
    "version": 3
   },
   "file_extension": ".py",
   "mimetype": "text/x-python",
   "name": "python",
   "nbconvert_exporter": "python",
   "pygments_lexer": "ipython3",
   "version": "3.9.13"
  }
 },
 "nbformat": 4,
 "nbformat_minor": 5
}
