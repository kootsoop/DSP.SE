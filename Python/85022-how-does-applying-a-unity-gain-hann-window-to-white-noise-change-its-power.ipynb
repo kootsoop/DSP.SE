{
 "cells": [
  {
   "cell_type": "code",
   "execution_count": 16,
   "metadata": {},
   "outputs": [
    {
     "name": "stdout",
     "output_type": "stream",
     "text": [
      "0.9993634555439993\n",
      "1.2233491702059618\n",
      "1.224744871391589\n"
     ]
    }
   ],
   "source": [
    "import numpy as np\n",
    "import matplotlib.pyplot as plt\n",
    "\n",
    "np.random.seed(85022)\n",
    "\n",
    "n_iterations = 1000\n",
    "std_sum = 0\n",
    "std_win_sum = 0\n",
    "\n",
    "n = 2000\n",
    "win = 1 - np.cos(2*np.pi*np.arange(n)/n);\n",
    "\n",
    "for iter in np.arange(n_iterations):\n",
    "    noise = np.random.randn(n)\n",
    "\n",
    "    std_sum = std_sum + np.std(noise)\n",
    "    std_win_sum = std_win_sum + np.std(noise*win)\n",
    "    \n",
    "print(std_sum/n_iterations)\n",
    "print(std_win_sum/n_iterations)\n",
    "print(np.sqrt(np.sum(np.power(win,2))/n))"
   ]
  },
  {
   "cell_type": "code",
   "execution_count": null,
   "metadata": {},
   "outputs": [],
   "source": []
  },
  {
   "cell_type": "code",
   "execution_count": null,
   "metadata": {},
   "outputs": [],
   "source": []
  }
 ],
 "metadata": {
  "kernelspec": {
   "display_name": "Python 3",
   "language": "python",
   "name": "python3"
  },
  "language_info": {
   "codemirror_mode": {
    "name": "ipython",
    "version": 3
   },
   "file_extension": ".py",
   "mimetype": "text/x-python",
   "name": "python",
   "nbconvert_exporter": "python",
   "pygments_lexer": "ipython3",
   "version": "3.8.5"
  }
 },
 "nbformat": 4,
 "nbformat_minor": 4
}
