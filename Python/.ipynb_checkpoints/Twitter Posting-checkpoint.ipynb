{
 "cells": [
  {
   "cell_type": "code",
   "execution_count": 7,
   "metadata": {},
   "outputs": [
    {
     "ename": "GraphAPIError",
     "evalue": "(#200) If posting to a group, requires app being installed in the group, and \\\n          either publish_to_groups permission with user token, or both manage_pages \\\n          and publish_pages permission with page token; If posting to a page, \\\n          requires both manage_pages and publish_pages as an admin with \\\n          sufficient administrative permission",
     "output_type": "error",
     "traceback": [
      "\u001b[0;31m---------------------------------------------------------------------------\u001b[0m",
      "\u001b[0;31mGraphAPIError\u001b[0m                             Traceback (most recent call last)",
      "\u001b[0;32m<ipython-input-7-9e59ca7c2cd2>\u001b[0m in \u001b[0;36m<module>\u001b[0;34m\u001b[0m\n\u001b[1;32m     41\u001b[0m \u001b[0mpage_access_token\u001b[0m \u001b[0;34m=\u001b[0m \u001b[0mos\u001b[0m\u001b[0;34m.\u001b[0m\u001b[0mgetenv\u001b[0m\u001b[0;34m(\u001b[0m\u001b[0;34m'FACEBOOK_ACCESS_TOKEN'\u001b[0m\u001b[0;34m)\u001b[0m\u001b[0;34m\u001b[0m\u001b[0;34m\u001b[0m\u001b[0m\n\u001b[1;32m     42\u001b[0m \u001b[0mgraph\u001b[0m \u001b[0;34m=\u001b[0m \u001b[0mfacebook\u001b[0m\u001b[0;34m.\u001b[0m\u001b[0mGraphAPI\u001b[0m\u001b[0;34m(\u001b[0m\u001b[0mpage_access_token\u001b[0m\u001b[0;34m)\u001b[0m\u001b[0;34m\u001b[0m\u001b[0;34m\u001b[0m\u001b[0m\n\u001b[0;32m---> 43\u001b[0;31m \u001b[0mgraph\u001b[0m\u001b[0;34m.\u001b[0m\u001b[0mput_object\u001b[0m\u001b[0;34m(\u001b[0m\u001b[0;34m\"me\"\u001b[0m\u001b[0;34m,\u001b[0m \u001b[0;34m\"feed\"\u001b[0m\u001b[0;34m,\u001b[0m \u001b[0mmessage\u001b[0m\u001b[0;34m=\u001b[0m\u001b[0;34m\"Posting on my wall1!\"\u001b[0m\u001b[0;34m)\u001b[0m\u001b[0;34m\u001b[0m\u001b[0;34m\u001b[0m\u001b[0m\n\u001b[0m\u001b[1;32m     44\u001b[0m \u001b[0;34m\u001b[0m\u001b[0m\n",
      "\u001b[0;32m~/opt/anaconda3/lib/python3.7/site-packages/facebook/__init__.py\u001b[0m in \u001b[0;36mput_object\u001b[0;34m(self, parent_object, connection_name, **data)\u001b[0m\n\u001b[1;32m    190\u001b[0m             \u001b[0;34m\"{0}/{1}/{2}\"\u001b[0m\u001b[0;34m.\u001b[0m\u001b[0mformat\u001b[0m\u001b[0;34m(\u001b[0m\u001b[0mself\u001b[0m\u001b[0;34m.\u001b[0m\u001b[0mversion\u001b[0m\u001b[0;34m,\u001b[0m \u001b[0mparent_object\u001b[0m\u001b[0;34m,\u001b[0m \u001b[0mconnection_name\u001b[0m\u001b[0;34m)\u001b[0m\u001b[0;34m,\u001b[0m\u001b[0;34m\u001b[0m\u001b[0;34m\u001b[0m\u001b[0m\n\u001b[1;32m    191\u001b[0m             \u001b[0mpost_args\u001b[0m\u001b[0;34m=\u001b[0m\u001b[0mdata\u001b[0m\u001b[0;34m,\u001b[0m\u001b[0;34m\u001b[0m\u001b[0;34m\u001b[0m\u001b[0m\n\u001b[0;32m--> 192\u001b[0;31m             \u001b[0mmethod\u001b[0m\u001b[0;34m=\u001b[0m\u001b[0;34m\"POST\"\u001b[0m\u001b[0;34m,\u001b[0m\u001b[0;34m\u001b[0m\u001b[0;34m\u001b[0m\u001b[0m\n\u001b[0m\u001b[1;32m    193\u001b[0m         )\n\u001b[1;32m    194\u001b[0m \u001b[0;34m\u001b[0m\u001b[0m\n",
      "\u001b[0;32m~/opt/anaconda3/lib/python3.7/site-packages/facebook/__init__.py\u001b[0m in \u001b[0;36mrequest\u001b[0;34m(self, path, args, post_args, files, method)\u001b[0m\n\u001b[1;32m    311\u001b[0m \u001b[0;34m\u001b[0m\u001b[0m\n\u001b[1;32m    312\u001b[0m         \u001b[0;32mif\u001b[0m \u001b[0mresult\u001b[0m \u001b[0;32mand\u001b[0m \u001b[0misinstance\u001b[0m\u001b[0;34m(\u001b[0m\u001b[0mresult\u001b[0m\u001b[0;34m,\u001b[0m \u001b[0mdict\u001b[0m\u001b[0;34m)\u001b[0m \u001b[0;32mand\u001b[0m \u001b[0mresult\u001b[0m\u001b[0;34m.\u001b[0m\u001b[0mget\u001b[0m\u001b[0;34m(\u001b[0m\u001b[0;34m\"error\"\u001b[0m\u001b[0;34m)\u001b[0m\u001b[0;34m:\u001b[0m\u001b[0;34m\u001b[0m\u001b[0;34m\u001b[0m\u001b[0m\n\u001b[0;32m--> 313\u001b[0;31m             \u001b[0;32mraise\u001b[0m \u001b[0mGraphAPIError\u001b[0m\u001b[0;34m(\u001b[0m\u001b[0mresult\u001b[0m\u001b[0;34m)\u001b[0m\u001b[0;34m\u001b[0m\u001b[0;34m\u001b[0m\u001b[0m\n\u001b[0m\u001b[1;32m    314\u001b[0m         \u001b[0;32mreturn\u001b[0m \u001b[0mresult\u001b[0m\u001b[0;34m\u001b[0m\u001b[0;34m\u001b[0m\u001b[0m\n\u001b[1;32m    315\u001b[0m \u001b[0;34m\u001b[0m\u001b[0m\n",
      "\u001b[0;31mGraphAPIError\u001b[0m: (#200) If posting to a group, requires app being installed in the group, and \\\n          either publish_to_groups permission with user token, or both manage_pages \\\n          and publish_pages permission with page token; If posting to a page, \\\n          requires both manage_pages and publish_pages as an admin with \\\n          sufficient administrative permission"
     ]
    }
   ],
   "source": [
    "import os\n",
    "from dotenv import load_dotenv\n",
    "from twython import Twython\n",
    "from datetime import datetime, timedelta\n",
    "import os.path\n",
    "from os import path\n",
    "\n",
    "# Get file names\n",
    "date = datetime.now() - timedelta(days = 1) \n",
    "date_string = date.strftime('%-m-%-d-%y')\n",
    "first_pic = '/Users/kootsoop/Pictures/COVID-19-FORECAST-' + date_string + '.png'\n",
    "second_pic = '/Users/kootsoop/Pictures/COVID-19-FORECAST-HISTORY-' + date_string + '.png'\n",
    "\n",
    "load_dotenv(dotenv_path='/Users/kootsoop/.env')\n",
    "\n",
    "API_KEY = os.getenv('TWITTER_API_KEY')\n",
    "API_SECRET_KEY = os.getenv('TWITTER_API_SECRET_KEY')\n",
    "ACCESS_TOKEN=os.getenv('TWITTER_ACCESS_TOKEN')\n",
    "ACCESS_TOKEN_SECRET=os.getenv('TWITTER_ACCESS_TOKEN_SECRET')\n",
    "\n",
    "twitter = Twython(API_KEY, API_SECRET_KEY, ACCESS_TOKEN, ACCESS_TOKEN_SECRET)\n",
    "\n",
    "image1_ids = ''\n",
    "image2_ids = ''\n",
    "\n",
    "if path.exists(first_pic):\n",
    "    print('First pic found : ' + first_pic)\n",
    "    image1_open = open(first_pic, 'rb')\n",
    "    image1_ids = twitter.upload_media(media=image1_open)\n",
    "    \n",
    "\n",
    "if path.exists(second_pic):\n",
    "    print('Second pic found : ' + second_pic)\n",
    "    image2_open = open(second_pic, 'rb')\n",
    "    image2_ids = twitter.upload_media(media=image2_open)\n",
    "    \n",
    "twitter.update_status(status=date_string + ': Forecast date for 200k deaths in the USA. #tracking200k',media_ids=[image1_ids['media_id'], image2_ids['media_id']])\n",
    "\n",
    "# page_access_token = os.getenv('FACEBOOK_ACCESS_TOKEN')\n",
    "# graph = facebook.GraphAPI(page_access_token)\n",
    "# graph.put_object(\"me\", \"feed\", message=\"Posting on my wall1!\")\n",
    "\n"
   ]
  },
  {
   "cell_type": "code",
   "execution_count": null,
   "metadata": {},
   "outputs": [],
   "source": []
  }
 ],
 "metadata": {
  "kernelspec": {
   "display_name": "Python 3",
   "language": "python",
   "name": "python3"
  },
  "language_info": {
   "codemirror_mode": {
    "name": "ipython",
    "version": 3
   },
   "file_extension": ".py",
   "mimetype": "text/x-python",
   "name": "python",
   "nbconvert_exporter": "python",
   "pygments_lexer": "ipython3",
   "version": "3.7.6"
  }
 },
 "nbformat": 4,
 "nbformat_minor": 4
}
