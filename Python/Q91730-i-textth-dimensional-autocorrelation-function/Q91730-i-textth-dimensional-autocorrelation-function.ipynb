{
 "cells": [
  {
   "cell_type": "code",
   "execution_count": 59,
   "id": "c196dce6",
   "metadata": {},
   "outputs": [
    {
     "name": "stdout",
     "output_type": "stream",
     "text": [
      "For 2: should be 1 Calculated: 0.9946066112024137\n",
      "For 3: should be 0 Calculated: 0.014338673370010435\n",
      "For 4: should be 3 Calculated: 3.0088602833619134\n",
      "For 5: should be 0 Calculated: 0.12289469288233784\n",
      "For 6: should be 15 Calculated: 15.20500109670608\n",
      "For 7: should be 0 Calculated: 1.6572818702690346\n"
     ]
    }
   ],
   "source": [
    "import numpy as np\n",
    "import math\n",
    "from matplotlib import pyplot as plt\n",
    "\n",
    "N = 1000\n",
    "Nruns = 100000\n",
    "\n",
    "def do_simulation(M):\n",
    "    indices = 11*np.ones(M, dtype=int)\n",
    "    sum_product = 0\n",
    "    for idx in np.arange(Nruns):\n",
    "        x = np.random.normal(size=N)\n",
    "        sum_product = sum_product + math.prod(x[indices])\n",
    "\n",
    "    return sum_product/Nruns\n",
    "\n",
    "def number_should_be(M):\n",
    "    if (M % 2 == 0):\n",
    "        return math.prod(range(M-1, 0, -2))\n",
    "    else:\n",
    "        return 0\n",
    "\n",
    "print(\"For 2: should be \" + str(number_should_be(2)) + \" Calculated: \" + str(do_simulation(2)))\n",
    "print(\"For 3: should be \" + str(number_should_be(3)) + \" Calculated: \" + str(do_simulation(3)))\n",
    "print(\"For 4: should be \" + str(number_should_be(4)) + \" Calculated: \" + str(do_simulation(4)))\n",
    "print(\"For 5: should be \" + str(number_should_be(5)) + \" Calculated: \" + str(do_simulation(5)))\n",
    "print(\"For 6: should be \" + str(number_should_be(6)) + \" Calculated: \" + str(do_simulation(6)))\n",
    "print(\"For 7: should be \" + str(number_should_be(7)) + \" Calculated: \" + str(do_simulation(7)))\n",
    "\n"
   ]
  },
  {
   "cell_type": "code",
   "execution_count": null,
   "id": "6385fe55",
   "metadata": {},
   "outputs": [],
   "source": []
  }
 ],
 "metadata": {
  "kernelspec": {
   "display_name": "Python 3 (ipykernel)",
   "language": "python",
   "name": "python3"
  },
  "language_info": {
   "codemirror_mode": {
    "name": "ipython",
    "version": 3
   },
   "file_extension": ".py",
   "mimetype": "text/x-python",
   "name": "python",
   "nbconvert_exporter": "python",
   "pygments_lexer": "ipython3",
   "version": "3.9.13"
  }
 },
 "nbformat": 4,
 "nbformat_minor": 5
}
