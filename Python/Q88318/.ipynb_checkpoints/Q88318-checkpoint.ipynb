{
 "cells": [
  {
   "cell_type": "code",
   "execution_count": null,
   "id": "4eab3f40",
   "metadata": {},
   "outputs": [],
   "source": [
    "import numpy as np\n",
    "\n",
    "def phase_extractor(fourier, t_max, t):     \n",
    "   \n",
    "    phase = np.angle(fourier)\n",
    "    \n",
    "    # Unwrap the phase to remove jumps or discontinuities\n",
    "    phase_spectrum = np.unwrap(phase)\n",
    "    #proper_phase = torch.from_numpy(phase_realtime)\n",
    "    return phase_spectrum "
   ]
  }
 ],
 "metadata": {
  "kernelspec": {
   "display_name": "Python 3 (ipykernel)",
   "language": "python",
   "name": "python3"
  },
  "language_info": {
   "codemirror_mode": {
    "name": "ipython",
    "version": 3
   },
   "file_extension": ".py",
   "mimetype": "text/x-python",
   "name": "python",
   "nbconvert_exporter": "python",
   "pygments_lexer": "ipython3",
   "version": "3.9.13"
  }
 },
 "nbformat": 4,
 "nbformat_minor": 5
}
