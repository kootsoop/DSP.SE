{
 "cells": [
  {
   "cell_type": "code",
   "execution_count": 31,
   "metadata": {},
   "outputs": [],
   "source": [
    "data = [122.76258495, 125.2357452 , 127.70768702, 132.65322914,\n",
    "   135.12374982, 137.58495967, 140.06083022, 142.5266016 ,\n",
    "   145.00126936, 147.47713604, 149.94647284, 152.41441211,\n",
    "   154.893105  , 157.35769229, 159.82660719, 162.28600819,\n",
    "   172.17809076, 174.65187416, 177.11919058, 179.58977094,\n",
    "   184.53904675, 187.00739281, 189.47979348, 191.9547493 ,\n",
    "   194.41813837, 196.88205253, 199.36073519, 201.82316893,\n",
    "   204.29872663, 206.77035981, 209.23571587, 211.70450343,\n",
    "   214.19166579, 216.64951491, 219.12309888, 221.59243694,\n",
    "   224.06177911, 226.53636961, 229.01307628, 233.95261524,\n",
    "   236.42512815, 238.89132881, 241.35466117, 243.83515673,\n",
    "   246.30092881, 248.77364934, 251.23992941, 253.70513364,\n",
    "   261.12110344, 263.59184693, 266.06187123, 268.53406706,\n",
    "   271.00650483, 273.47121761, 275.94262475, 278.41602937,\n",
    "   283.34598689, 285.83241639, 288.29302028, 293.22749874,\n",
    "   295.71148137, 298.17624614]"
   ]
  },
  {
   "cell_type": "code",
   "execution_count": 12,
   "metadata": {},
   "outputs": [
    {
     "name": "stdout",
     "output_type": "stream",
     "text": [
      "Mean difference: 2.4716331799999978\n",
      " Standard deviation: 2.60564323024001e-16\n"
     ]
    },
    {
     "data": {
      "image/png": "[encoded data removed]",
      "text/plain": [
       "<Figure size 432x288 with 1 Axes>"
      ]
     },
     "metadata": {
      "needs_background": "light"
     },
     "output_type": "display_data"
    }
   ],
   "source": [
    "import numpy as np\n",
    "import matplotlib.pyplot as plt\n",
    "\n",
    "time_differences = np.diff(data)\n",
    "median_difference = np.median(time_differences)\n",
    "weighting = np.divide(1,time_differences/median_difference)\n",
    "corrected_differences = np.multiply(weighting, time_differences)\n",
    "plt.plot(corrected_differences)\n",
    "print('Mean difference: ' + str(np.mean(corrected_differences)))\n",
    "print(' Standard deviation: ' + str(np.std(corrected_differences)))\n",
    "\n"
   ]
  },
  {
   "cell_type": "code",
   "execution_count": 43,
   "metadata": {},
   "outputs": [
    {
     "name": "stdout",
     "output_type": "stream",
     "text": [
      "Mean difference: 2.4691258500000117\n",
      " Standard deviation: 2.0150219558990436e-16\n"
     ]
    },
    {
     "data": {
      "image/png": "[encoded data removed]",
      "text/plain": [
       "<Figure size 432x288 with 1 Axes>"
      ]
     },
     "metadata": {
      "needs_background": "light"
     },
     "output_type": "display_data"
    }
   ],
   "source": [
    "data2 = [x + 1.0 for x in data[1:len(data):10]]\n",
    "new_data = np.concatenate((data, data2))\n",
    "new_data.sort()\n",
    "time_differences = np.diff(new_data)\n",
    "median_difference = np.median(time_differences)\n",
    "weighting = np.divide(1,time_differences/median_difference)\n",
    "corrected_differences = np.multiply(weighting, time_differences)\n",
    "plt.plot(corrected_differences)\n",
    "print('Mean difference: ' + str(np.mean(corrected_differences)))\n",
    "print(' Standard deviation: ' + str(np.std(corrected_differences)))\n"
   ]
  },
  {
   "cell_type": "code",
   "execution_count": 41,
   "metadata": {},
   "outputs": [
    {
     "name": "stdout",
     "output_type": "stream",
     "text": [
      "62 124\n"
     ]
    }
   ],
   "source": [
    "print(str(len(data)) + \" \" + str(len(new_data)))"
   ]
  },
  {
   "cell_type": "code",
   "execution_count": 33,
   "metadata": {},
   "outputs": [
    {
     "name": "stdout",
     "output_type": "stream",
     "text": [
      "The original list is : [4, 5, 6.5, 3, 9]\n",
      "The list after adding K to each element : [8, 9, 10.5, 7, 13]\n"
     ]
    }
   ],
   "source": [
    "# Python3 code to demonstrate \n",
    "# adding K to each element\n",
    "# using list comprehension\n",
    "  \n",
    "# initializing list  \n",
    "test_list = [4, 5, 6.5, 3, 9]\n",
    "  \n",
    "# printing original list\n",
    "print (\"The original list is : \" + str(test_list))\n",
    "  \n",
    "# initializing K\n",
    "K = 4\n",
    "  \n",
    "# using list comprehension\n",
    "# adding K to each element\n",
    "res = [x + K for x in test_list]\n",
    "  \n",
    "# printing result \n",
    "print (\"The list after adding K to each element : \" +  str(res))"
   ]
  },
  {
   "cell_type": "code",
   "execution_count": null,
   "metadata": {},
   "outputs": [],
   "source": []
  }
 ],
 "metadata": {
  "kernelspec": {
   "display_name": "Python 3",
   "language": "python",
   "name": "python3"
  },
  "language_info": {
   "codemirror_mode": {
    "name": "ipython",
    "version": 3
   },
   "file_extension": ".py",
   "mimetype": "text/x-python",
   "name": "python",
   "nbconvert_exporter": "python",
   "pygments_lexer": "ipython3",
   "version": "3.8.5"
  }
 },
 "nbformat": 4,
 "nbformat_minor": 4
}
