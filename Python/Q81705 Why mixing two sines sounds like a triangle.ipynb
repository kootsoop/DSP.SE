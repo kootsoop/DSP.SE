{
 "cells": [
  {
   "cell_type": "code",
   "execution_count": 11,
   "metadata": {},
   "outputs": [
    {
     "data": {
      "text/plain": [
       "(0.0, 400.0)"
      ]
     },
     "execution_count": 11,
     "metadata": {},
     "output_type": "execute_result"
    },
    {
     "data": {
      "image/png": "[encoded data removed]",
      "text/plain": [
       "<Figure size 432x288 with 1 Axes>"
      ]
     },
     "metadata": {
      "needs_background": "light"
     },
     "output_type": "display_data"
    }
   ],
   "source": [
    "# https://dsp.stackexchange.com/questions/81705/why-mixing-two-sines-sounds-like-a-triangle\n",
    "# https://github.com/irmen/synthesizer/blob/master/synthplayer/synth.py\n",
    "\n",
    "import numpy as np\n",
    "from scipy.signal import blackman\n",
    "from matplotlib import pyplot as plt\n",
    "\n",
    "from synthplayer.synth import WaveSynth\n",
    "from synthplayer.playback import Output\n",
    "\n",
    "synth_player = WaveSynth()\n",
    "\n",
    "\n",
    "def sine(*args, **kwargs):\n",
    "    return synth_player.sine(*args, **kwargs)\n",
    "\n",
    "\n",
    "def get_sample():\n",
    "    sine1 = sine(440, 2, amplitude=0.4)\n",
    "    sine2 = sine(220, 1, amplitude=0.4) \n",
    "    sine1.mix(sine2)\n",
    "    return sine1\n",
    "\n",
    "# def twos_comp(val, bits):\n",
    "#     \"\"\"compute the 2's complement of int value val\"\"\"\n",
    "#     if ((1 << bits - 1) & val) != 0:\n",
    "#         val = -((((1 << bits) - 1) ^ val) + 1)\n",
    "#     return val\n",
    "\n",
    "# def ones_comp(val, bits):\n",
    "#     \"\"\"compute the 1's complement of int value val\"\"\"\n",
    "#     return ((1 << bits) - 1) ^ val\n",
    "\n",
    "\n",
    "# with Output(nchannels=1, mixing=\"sequential\", queue_size=2) as out:\n",
    "#     out.play_sample(get_sample())\n",
    "#     out.wait_all_played()\n",
    "\n",
    "\n",
    "def twos_comp(val, bits):\n",
    "    \"\"\"compute the 2's complement of int value val\"\"\"\n",
    "    if (val & (1 << (bits - 1))) != 0: # if sign bit is set e.g., 8bit: 128-255\n",
    "        val = val - (1 << bits)        # compute negative value\n",
    "    return val                         # return positive value as is\n",
    "\n",
    "N = 800\n",
    "\n",
    "int_values = [twos_comp(x,8) for x in get_sample()._Sample__frames]\n",
    "plt.plot(int_values[1:N:2])\n",
    "plt.xlim([0,N/2])\n",
    "\n",
    "#print(int_values[0:N])\n",
    "#print(get_sample()._Sample__frames[0:N])\n"
   ]
  },
  {
   "cell_type": "code",
   "execution_count": 12,
   "metadata": {},
   "outputs": [
    {
     "data": {
      "text/plain": [
       "0"
      ]
     },
     "execution_count": 12,
     "metadata": {},
     "output_type": "execute_result"
    }
   ],
   "source": [
    "((1 << 8) - 1) ^ 255 + 1"
   ]
  },
  {
   "cell_type": "code",
   "execution_count": null,
   "metadata": {},
   "outputs": [],
   "source": []
  }
 ],
 "metadata": {
  "kernelspec": {
   "display_name": "Python 3",
   "language": "python",
   "name": "python3"
  },
  "language_info": {
   "codemirror_mode": {
    "name": "ipython",
    "version": 3
   },
   "file_extension": ".py",
   "mimetype": "text/x-python",
   "name": "python",
   "nbconvert_exporter": "python",
   "pygments_lexer": "ipython3",
   "version": "3.8.5"
  }
 },
 "nbformat": 4,
 "nbformat_minor": 4
}
