{
 "cells": [
  {
   "cell_type": "code",
   "execution_count": 16,
   "metadata": {},
   "outputs": [],
   "source": [
    "import numpy as np\n",
    "import matplotlib.pyplot as plt\n",
    "\n",
    "x = [1,2,3,2]\n",
    "N = len(x)\n",
    "xf = np.fft.fft(x)\n",
    "xf_zero_padded = np.append(xf[:N//2].copy(), np.append(np.zeros(N), xf[-N//2:].copy()))\n",
    "xup = 2*np.fft.ifft(xf_zero_padded)"
   ]
  },
  {
   "cell_type": "code",
   "execution_count": 18,
   "metadata": {},
   "outputs": [
    {
     "name": "stdout",
     "output_type": "stream",
     "text": [
      "[ 8.+0.j -2.+0.j  0.+0.j -2.+0.j]\n",
      "[ 8.+0.j -2.+0.j]\n",
      "[ 0.+0.j -2.+0.j]\n",
      "[1.        +0.j 1.29289322+0.j 2.        +0.j 2.70710678+0.j\n",
      " 3.        +0.j 2.70710678+0.j 2.        +0.j 1.29289322+0.j]\n"
     ]
    }
   ],
   "source": [
    "print(xf)\n",
    "print(xf[:N//2])\n",
    "print(xf[-N//2:])\n",
    "print(xup)"
   ]
  },
  {
   "cell_type": "code",
   "execution_count": 19,
   "metadata": {},
   "outputs": [
    {
     "name": "stdout",
     "output_type": "stream",
     "text": [
      "[1.+0.j 2.+0.j 3.+0.j 2.+0.j]\n"
     ]
    }
   ],
   "source": [
    "print(xup[::2])"
   ]
  },
  {
   "cell_type": "code",
   "execution_count": 29,
   "metadata": {},
   "outputs": [
    {
     "ename": "AssertionError",
     "evalue": "",
     "output_type": "error",
     "traceback": [
      "\u001b[0;31m---------------------------------------------------------------------------\u001b[0m",
      "\u001b[0;31mAssertionError\u001b[0m                            Traceback (most recent call last)",
      "\u001b[0;32m<ipython-input-29-4ab3167d9ae0>\u001b[0m in \u001b[0;36m<module>\u001b[0;34m\u001b[0m\n\u001b[1;32m     23\u001b[0m                      h[-(N//4 - 1):]])\n\u001b[1;32m     24\u001b[0m \u001b[0mxup\u001b[0m \u001b[0;34m=\u001b[0m \u001b[0mifft\u001b[0m\u001b[0;34m(\u001b[0m\u001b[0mhup\u001b[0m\u001b[0;34m)\u001b[0m\u001b[0;34m\u001b[0m\u001b[0;34m\u001b[0m\u001b[0m\n\u001b[0;32m---> 25\u001b[0;31m \u001b[0;32massert\u001b[0m \u001b[0mnp\u001b[0m\u001b[0;34m.\u001b[0m\u001b[0mallclose\u001b[0m\u001b[0;34m(\u001b[0m\u001b[0mxup\u001b[0m\u001b[0;34m,\u001b[0m \u001b[0mx\u001b[0m\u001b[0;34m)\u001b[0m\u001b[0;34m\u001b[0m\u001b[0;34m\u001b[0m\u001b[0m\n\u001b[0m",
      "\u001b[0;31mAssertionError\u001b[0m: "
     ]
    }
   ],
   "source": [
    "import numpy as np\n",
    "from numpy.fft import ifft\n",
    "\n",
    "# populate up to portion that won't be aliased\n",
    "N = 8\n",
    "xf = np.zeros(N, dtype='complex128')\n",
    "xf[:2+1] = np.random.randn(2+1) + 1j*np.random.randn(2+1)\n",
    "xf[-2:] = np.conj(xf[1:2+1][::-1])\n",
    "# DC.imag must be zero for real x\n",
    "xf[:1].imag = 0\n",
    "# comment this out to see upsampling fail\n",
    "xf[-2:-1].imag = 0\n",
    "xf[2:3].imag = 0\n",
    "# get x, assert real\n",
    "x = ifft(xf)\n",
    "assert np.allclose(x.imag, 0)\n",
    "\n",
    "# downsample, use h for short notation\n",
    "xdn = x[::2]\n",
    "h = ifft(xdn)\n",
    "hup = 2 * np.hstack([h[:N//4], \n",
    "                     h[N//4]/2, np.zeros(N//2 - 1), h[N//4]/2, \n",
    "                     h[-(N//4 - 1):]])\n",
    "xup = ifft(hup)\n",
    "assert np.allclose(xup, x)"
   ]
  },
  {
   "cell_type": "code",
   "execution_count": 25,
   "metadata": {},
   "outputs": [
    {
     "name": "stdout",
     "output_type": "stream",
     "text": [
      "[-0.02501333+0.j -0.07412079+0.j -0.10557621+0.j -0.11358448+0.j\n",
      " -0.08082342+0.j -0.013853  +0.j  0.03546539+0.j  0.02561069+0.j]\n"
     ]
    }
   ],
   "source": [
    "print(xup)"
   ]
  },
  {
   "cell_type": "code",
   "execution_count": 26,
   "metadata": {},
   "outputs": [
    {
     "name": "stdout",
     "output_type": "stream",
     "text": [
      "[-0.10005334+0.j  0.10244275+0.j  0.14186156+0.j -0.055412  +0.j\n",
      " -0.32329367+0.j -0.4543379 +0.j -0.42230485+0.j -0.29648315+0.j]\n"
     ]
    }
   ],
   "source": [
    "print(x)"
   ]
  },
  {
   "cell_type": "code",
   "execution_count": 35,
   "metadata": {},
   "outputs": [
    {
     "name": "stdout",
     "output_type": "stream",
     "text": [
      "0.23733713769810083j\n"
     ]
    }
   ],
   "source": [
    "x = 0.1278147\n",
    "c = 5.42958205\n",
    "\n",
    "gamma = 1j*np.pi*x/np.log(c)\n",
    "print(gamma)"
   ]
  },
  {
   "cell_type": "code",
   "execution_count": null,
   "metadata": {},
   "outputs": [],
   "source": []
  }
 ],
 "metadata": {
  "kernelspec": {
   "display_name": "Python 3",
   "language": "python",
   "name": "python3"
  },
  "language_info": {
   "codemirror_mode": {
    "name": "ipython",
    "version": 3
   },
   "file_extension": ".py",
   "mimetype": "text/x-python",
   "name": "python",
   "nbconvert_exporter": "python",
   "pygments_lexer": "ipython3",
   "version": "3.8.5"
  }
 },
 "nbformat": 4,
 "nbformat_minor": 4
}
