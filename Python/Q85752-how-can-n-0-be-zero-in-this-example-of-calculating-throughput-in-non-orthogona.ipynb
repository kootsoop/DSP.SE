{
 "cells": [
  {
   "cell_type": "code",
   "execution_count": 7,
   "id": "2f5410e3",
   "metadata": {},
   "outputs": [
    {
     "name": "stdout",
     "output_type": "stream",
     "text": [
      "7.187699013365945\n"
     ]
    }
   ],
   "source": [
    "import numpy as np\n",
    "import matplotlib.pyplot as plt\n",
    "\n",
    "N0 = 0.001\n",
    "# P1=20dBm, P2=15dBm, P3=10dBm, P4=5dBm\n",
    "\n",
    "P1 = np.power(10.0, 20/10)*N0\n",
    "P2 = np.power(10.0, 15/10)*N0\n",
    "P3 = np.power(10.0, 10/10)*N0\n",
    "P4 = np.power(10.0, 5/10)*N0\n",
    "\n",
    "sum = np.log2(1 + P1/N0 + P2/N0 + P3/N0 + P4/N0)\n",
    "print(sum)"
   ]
  },
  {
   "cell_type": "code",
   "execution_count": null,
   "id": "3b63b212",
   "metadata": {},
   "outputs": [],
   "source": []
  }
 ],
 "metadata": {
  "kernelspec": {
   "display_name": "Python 3 (ipykernel)",
   "language": "python",
   "name": "python3"
  },
  "language_info": {
   "codemirror_mode": {
    "name": "ipython",
    "version": 3
   },
   "file_extension": ".py",
   "mimetype": "text/x-python",
   "name": "python",
   "nbconvert_exporter": "python",
   "pygments_lexer": "ipython3",
   "version": "3.9.13"
  }
 },
 "nbformat": 4,
 "nbformat_minor": 5
}
