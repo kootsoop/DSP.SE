{
 "cells": [
  {
   "cell_type": "code",
   "execution_count": 6,
   "metadata": {},
   "outputs": [],
   "source": [
    "import  numpy  as  np\n",
    "\n",
    "\n",
    "def  rrcosfilter ( N ,  beta ,  Ts ,  Fs ):\n",
    "    \"\"\"\n",
    "    Creates a root-raised cosine filter that is symmetrical about the center\n",
    "    runs.\n",
    "    Parameter:\n",
    "    -----------\n",
    "    N : int\n",
    "        Number of filter points.\n",
    "    beta : float\n",
    "        Roll-off factor in the interval [0, 1].\n",
    "    Ts : float\n",
    "        The symbol period (inverse of the symbol rate) in seconds.\n",
    "    Fs : float\n",
    "        The sample rate in Hertz.\n",
    "    Return:\n",
    "    -----------\n",
    "    h_rcc : numpy.ndarray\n",
    "        The impulse response of the filter as a NumPy array.\n",
    "    \"\"\"\n",
    "\n",
    "    T_delta  =  1 / float ( Fs )\n",
    "    sample_num  =  np . arange ( N )\n",
    "    h_rrc  =  np . zeros ( N ,  dtype = float )\n",
    "\n",
    "    for  x  in  sample_num :\n",
    "        t  =  ( x - N / 2 ) * T_delta\n",
    "        if  t  ==  0.0 :\n",
    "            scaling  =  1 / np . sqrt ( Ts )\n",
    "            equation  =  1 - beta + ( 4 * beta / np . pi )\n",
    "            h_rrc [ x ]  =  scaling  *  equation\n",
    "        elif  beta  !=  0  and  t  ==  ( Ts / ( 4 * beta )  or  - Ts / ( 4 * beta )):\n",
    "            scaling  =  beta / np . sqrt ( 2 * Ts )\n",
    "            equation  =  ( 1 + ( 2 / np . pi )) * np . sin ( np . pi / ( 4 * beta ))  +  ( 1 - 2 / np . pi ) * np . cos ( np.pi / ( 4 * beta ) ) \n",
    "            h_rrc [ x ]  =  scaling  *  equation\n",
    "        else :\n",
    "            scaling  =  1 / np . sqrt ( Ts )\n",
    "            numerator  =  np . sin ( np . pi * ( 1 - beta ) * t / Ts )  +  ( 4 * beta * t / Ts ) * np . cos ( np . pi * ( 1 + beta ) * t / Ts )\n",
    "            denominator  =  ( np . pi * t / Ts ) * ( 1 - np . square ( 4 * beta * t / Ts ))\n",
    "            equation  =  numerator  /  denominator\n",
    "            h_rrc [ x ]  =  scaling  *  equation\n",
    "    return  h_rrc\n",
    "\n"
   ]
  },
  {
   "cell_type": "code",
   "execution_count": 11,
   "metadata": {},
   "outputs": [
    {
     "data": {
      "text/plain": [
       "[<matplotlib.lines.Line2D at 0x7fe138583850>]"
      ]
     },
     "execution_count": 11,
     "metadata": {},
     "output_type": "execute_result"
    },
    {
     "data": {
      "image/png": "[encoded data removed]",
      "text/plain": [
       "<Figure size 432x288 with 1 Axes>"
      ]
     },
     "metadata": {
      "needs_background": "light"
     },
     "output_type": "display_data"
    }
   ],
   "source": [
    "import matplotlib.pyplot as plt\n",
    "sample_rrc  =  rrcosfilter (10000,0.22, 1.38e-5, 1152000)\n",
    "plt.plot(sample_rrc)"
   ]
  },
  {
   "cell_type": "code",
   "execution_count": null,
   "metadata": {},
   "outputs": [],
   "source": []
  }
 ],
 "metadata": {
  "kernelspec": {
   "display_name": "Python 3",
   "language": "python",
   "name": "python3"
  },
  "language_info": {
   "codemirror_mode": {
    "name": "ipython",
    "version": 3
   },
   "file_extension": ".py",
   "mimetype": "text/x-python",
   "name": "python",
   "nbconvert_exporter": "python",
   "pygments_lexer": "ipython3",
   "version": "3.8.5"
  }
 },
 "nbformat": 4,
 "nbformat_minor": 4
}
