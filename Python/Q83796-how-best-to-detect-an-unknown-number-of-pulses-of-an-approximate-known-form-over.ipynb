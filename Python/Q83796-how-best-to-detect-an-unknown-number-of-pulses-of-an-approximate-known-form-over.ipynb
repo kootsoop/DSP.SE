{
 "cells": [
  {
   "cell_type": "code",
   "execution_count": null,
   "metadata": {},
   "outputs": [],
   "source": []
  },
  {
   "cell_type": "code",
   "execution_count": 1,
   "metadata": {},
   "outputs": [
    {
     "name": "stdout",
     "output_type": "stream",
     "text": [
      "[833, 1666, 2499]\n"
     ]
    },
    {
     "data": {
      "text/plain": [
       "[<matplotlib.lines.Line2D at 0x7ff1206d3310>]"
      ]
     },
     "execution_count": 1,
     "metadata": {},
     "output_type": "execute_result"
    },
    {
     "data": {
      "image/png": "[encoded data removed]",
      "text/plain": [
       "<Figure size 432x288 with 1 Axes>"
      ]
     },
     "metadata": {
      "needs_background": "light"
     },
     "output_type": "display_data"
    }
   ],
   "source": [
    "import numpy as np\n",
    "import matplotlib.pyplot as plt\n",
    "\n",
    "def pulse(gamma, rho, x):\n",
    "    return np.divide(gamma, np.power(x-rho,2) + gamma*gamma)/np.pi\n",
    "\n",
    "def find_all_pulses(pulse_train, fraction, one_pulse):\n",
    "    width = len(one_pulse)\n",
    "    initial_energy = np.sum(np.power(pulse_train,2))\n",
    "    pulses_removed = pulse_train.copy()\n",
    "    pulse_positions = []\n",
    "    while (np.sum(np.power(pulses_removed,2)) > initial_energy*fraction) and (max(pulses_removed) > fraction*max(centered_pulse)):\n",
    "        peak_location = np.argmax(pulses_removed)\n",
    "        pulse_positions.append(peak_location)\n",
    "        indices = peak_location + list(range(-int(width/2), int(width/2)))\n",
    "        pulses_removed[indices] = pulses_removed[indices] - one_pulse\n",
    "        \n",
    "    return pulse_positions, pulses_removed\n",
    "\n",
    "N = 5000\n",
    "x = np.linspace(0,6,N)\n",
    "diff = x[1]-x[0]\n",
    "\n",
    "x2 = np.linspace(-1,1,int(2/diff))\n",
    "pulse_width = len(x2)\n",
    "half_pulse_width = 500\n",
    "\n",
    "centered_pulse = pulse(0.01,0,x2)\n",
    "noiseless_pulses = pulse(0.01,1,x) + pulse(0.01,2,x) + pulse(0.01,3,x)\n",
    "\n",
    "pulse_locations, removed_pulse_signal = find_all_pulses(noiseless_pulses.copy(), 0.1, centered_pulse)\n",
    "\n",
    "print(pulse_locations)\n",
    "\n",
    "plt.plot(noiseless_pulses)\n",
    "plt.plot(removed_pulse_signal, 'r.')"
   ]
  },
  {
   "cell_type": "code",
   "execution_count": null,
   "metadata": {},
   "outputs": [],
   "source": []
  }
 ],
 "metadata": {
  "kernelspec": {
   "display_name": "Python 3",
   "language": "python",
   "name": "python3"
  },
  "language_info": {
   "codemirror_mode": {
    "name": "ipython",
    "version": 3
   },
   "file_extension": ".py",
   "mimetype": "text/x-python",
   "name": "python",
   "nbconvert_exporter": "python",
   "pygments_lexer": "ipython3",
   "version": "3.8.5"
  }
 },
 "nbformat": 4,
 "nbformat_minor": 4
}
